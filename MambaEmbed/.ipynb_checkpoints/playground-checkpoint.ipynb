{
 "cells": [
  {
   "cell_type": "code",
   "execution_count": 2,
   "id": "4398442b",
   "metadata": {},
   "outputs": [],
   "source": [
    "import math\n",
    "from functools import partial\n",
    "import json\n",
    "import os\n",
    "import argparse\n",
    "import numpy as np\n",
    "from collections import namedtuple\n",
    "\n",
    "import torch\n",
    "import torch.nn as nn\n",
    "from mamba_ssm.models.config_mamba import MambaConfig\n",
    "from transformers import AutoTokenizer\n",
    "from model import MixerModel,MambaEmbedModel"
   ]
  },
  {
   "cell_type": "code",
   "execution_count": null,
   "id": "c9a381b7",
   "metadata": {},
   "outputs": [],
   "source": [
    "class MixerModelWrapper(MixerModel):\n",
    "    "
   ]
  }
 ],
 "metadata": {
  "kernelspec": {
   "display_name": ".venv",
   "language": "python",
   "name": ".venv"
  },
  "language_info": {
   "codemirror_mode": {
    "name": "ipython",
    "version": 3
   },
   "file_extension": ".py",
   "mimetype": "text/x-python",
   "name": "python",
   "nbconvert_exporter": "python",
   "pygments_lexer": "ipython3",
   "version": "3.12.2"
  }
 },
 "nbformat": 4,
 "nbformat_minor": 5
}
