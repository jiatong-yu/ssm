{
 "cells": [
  {
   "cell_type": "code",
   "execution_count": 1,
   "id": "25fdb062",
   "metadata": {},
   "outputs": [],
   "source": [
    "import math\n",
    "from typing import Optional\n",
    "from functools import partial\n",
    "import json\n",
    "import os \n",
    "import numpy as np \n",
    "from collections import namedtuple\n",
    "\n",
    "import torch\n",
    "import torch.nn as nn\n",
    "import torch.nn.functional as F\n",
    "from torch import Tensor\n",
    "\n",
    "from transformers import AutoTokenizer\n",
    "\n",
    "from model import MambaEmbedModel\n",
    "\n",
    "import datasets"
   ]
  },
  {
   "cell_type": "code",
   "execution_count": 2,
   "id": "a5e8d8dd",
   "metadata": {},
   "outputs": [
    {
     "name": "stderr",
     "output_type": "stream",
     "text": [
      "Special tokens have been added in the vocabulary, make sure the associated word embeddings are fine-tuned or trained.\n"
     ]
    }
   ],
   "source": [
    "model = MambaEmbedModel.from_pretrained(\"state-spaces/mamba-2.8b\", device=\"cuda\", dtype=torch.float16)"
   ]
  },
  {
   "cell_type": "code",
   "execution_count": 3,
   "id": "460003fd",
   "metadata": {},
   "outputs": [],
   "source": [
    "outputs, ssm_state_lst = model.encode(\"Last night I was drinking alone in my room.\")"
   ]
  },
  {
   "cell_type": "code",
   "execution_count": 4,
   "id": "9cab7f8e",
   "metadata": {},
   "outputs": [],
   "source": [
    "query = \"What is the life story of Napolean Bonaparte?\"\n",
    "doc1 = \"Napoleon Bonaparte (born Napoleone di Buonaparte;[1][b] 15 August 1769 – 5 May 1821), later known by his regnal name Napoleon I, was a French emperor and military commander who rose to prominence during the French Revolution and led successful campaigns during the Revolutionary Wars. He was the leader of the French Republic as First Consul from 1799 to 1804, then of the French Empire as Emperor of the French from 1804 until 1814, and briefly again in 1815. His political and cultural legacy endures as a celebrated and controversial leader. He initiated many enduring reforms, but has been criticized for his authoritarian rule. He is considered one of the greatest military commanders in history and his wars and campaigns are still studied at military schools worldwide. However, historians still debate the degree to which he was responsible for the Napoleonic Wars, in which between three and six million people died\"\n",
    "doc2 = \"The French Revolution[a] was a period of political and societal change in France that began with the Estates General of 1789, and ended with the coup of 18 Brumaire in November 1799 and the formation of the French Consulate. Many of its ideas are considered fundamental principles of liberal democracy,[1] while its values and institutions remain central to modern French political discourse.[2]\"\n",
    "doc3 = \"\"\"Bibliography (from Ancient Greek: βιβλίον, romanized: biblion, lit. 'book' and -γραφία, -graphía, 'writing'), as a discipline, is traditionally the academic study of books as physical, cultural objects; in this sense, it is also known as bibliology[1] (from Ancient Greek: -λογία, romanized: -logía). English author and bibliographer John Carter describes bibliography as a word having two senses: one, a list of books for further study or of works consulted by an author (or enumerative bibliography); the other one, applicable for collectors, is \"the study of books as physical objects\" and \"the systematic description of books as objects\" or descriptive bibliography\"\"\""
   ]
  },
  {
   "cell_type": "code",
   "execution_count": null,
   "id": "7c61c749",
   "metadata": {},
   "outputs": [],
   "source": [
    "query = \"\"\"How do I run a model locally on my laptop with Ollama?\"\"\"\n",
    "doc1 = \"\"\"\"\"\""
   ]
  },
  {
   "cell_type": "code",
   "execution_count": 11,
   "id": "3926bb14",
   "metadata": {},
   "outputs": [],
   "source": [
    "_,query_state_lst = model.encode(query)\n",
    "_,doc1_state_lst = model.encode(doc1)\n",
    "_,doc2_state_lst = model.encode(doc2)\n",
    "_,doc3_state_lst = model.encode(doc3)"
   ]
  },
  {
   "cell_type": "code",
   "execution_count": 12,
   "id": "7cfb96e3",
   "metadata": {},
   "outputs": [
    {
     "data": {
      "text/plain": [
       "array([ 4.0262230e-03, -3.9898408e-05, -6.2477594e-04, ...,\n",
       "        1.3457025e-04,  2.3413151e-04,  2.3073424e-03], dtype=float32)"
      ]
     },
     "execution_count": 12,
     "metadata": {},
     "output_type": "execute_result"
    }
   ],
   "source": [
    "query_state_lst[0]"
   ]
  },
  {
   "cell_type": "code",
   "execution_count": 43,
   "id": "61a75ad3",
   "metadata": {},
   "outputs": [],
   "source": [
    "i = 1\n",
    "q_last = np.mean(query_state_lst,axis=0)\n",
    "d1_last = np.mean(doc1_state_lst,axis=0)\n",
    "d2_last = np.mean(doc2_state_lst,axis=0)\n",
    "d3_last = np.mean(doc3_state_lst,axis=0)"
   ]
  },
  {
   "cell_type": "code",
   "execution_count": 45,
   "id": "e7878135",
   "metadata": {},
   "outputs": [],
   "source": [
    "import numpy as np\n",
    "\n",
    "def cosine_similarity(vector_a, vector_b):\n",
    "    # Normalize the vectors\n",
    "    norm_a = np.linalg.norm(vector_a)\n",
    "    norm_b = np.linalg.norm(vector_b)\n",
    "    vector_a_normalized = vector_a / norm_a\n",
    "    vector_b_normalized = vector_b / norm_b\n",
    "    \n",
    "    # Calculate the dot product\n",
    "    dot_product = np.dot(vector_a_normalized, vector_b_normalized)\n",
    "    \n",
    "    return dot_product"
   ]
  },
  {
   "cell_type": "code",
   "execution_count": 46,
   "id": "89e3f402",
   "metadata": {},
   "outputs": [
    {
     "data": {
      "text/plain": [
       "0.5531247"
      ]
     },
     "execution_count": 46,
     "metadata": {},
     "output_type": "execute_result"
    }
   ],
   "source": [
    "cosine_similarity(q_last,d1_last)"
   ]
  },
  {
   "cell_type": "code",
   "execution_count": 47,
   "id": "11044811",
   "metadata": {},
   "outputs": [
    {
     "data": {
      "text/plain": [
       "0.7076628"
      ]
     },
     "execution_count": 47,
     "metadata": {},
     "output_type": "execute_result"
    }
   ],
   "source": [
    "cosine_similarity(q_last,d2_last)"
   ]
  },
  {
   "cell_type": "code",
   "execution_count": 48,
   "id": "a0ba1903",
   "metadata": {},
   "outputs": [
    {
     "data": {
      "text/plain": [
       "0.63831043"
      ]
     },
     "execution_count": 48,
     "metadata": {},
     "output_type": "execute_result"
    }
   ],
   "source": [
    "cosine_similarity(q_last,d3_last)"
   ]
  },
  {
   "cell_type": "code",
   "execution_count": 49,
   "id": "3eacff49",
   "metadata": {},
   "outputs": [
    {
     "data": {
      "text/plain": [
       "array([-0.00147485,  0.00256407,  0.00043956, ..., -0.00150927,\n",
       "        0.00414287, -0.00115663], dtype=float32)"
      ]
     },
     "execution_count": 49,
     "metadata": {},
     "output_type": "execute_result"
    }
   ],
   "source": [
    "q_last"
   ]
  },
  {
   "cell_type": "code",
   "execution_count": 2,
   "id": "0e97f649",
   "metadata": {
    "scrolled": true
   },
   "outputs": [
    {
     "name": "stderr",
     "output_type": "stream",
     "text": [
      "Using the latest cached version of the module from /home/jiatongy/.cache/huggingface/modules/datasets_modules/datasets/miracl--hagrid/eacbf943f121db3e04762c358f4498a9891ce13798404e46854992ac0216327d (last modified on Wed Mar 20 16:09:09 2024) since it couldn't be found locally at miracl/hagrid, or remotely on the Hugging Face Hub.\n"
     ]
    }
   ],
   "source": [
    "hagrid = datasets.load_dataset(\"miracl/hagrid\", split=\"train\")"
   ]
  },
  {
   "cell_type": "code",
   "execution_count": 5,
   "id": "57ade2da",
   "metadata": {},
   "outputs": [
    {
     "data": {
      "text/plain": [
       "Dataset({\n",
       "    features: ['query_id', 'query', 'quotes', 'answers'],\n",
       "    num_rows: 1922\n",
       "})"
      ]
     },
     "execution_count": 5,
     "metadata": {},
     "output_type": "execute_result"
    }
   ],
   "source": [
    "hagrid"
   ]
  },
  {
   "cell_type": "code",
   "execution_count": 4,
   "id": "2a86e90c",
   "metadata": {},
   "outputs": [
    {
     "data": {
      "text/plain": [
       "'When is a language considered dead?'"
      ]
     },
     "execution_count": 4,
     "metadata": {},
     "output_type": "execute_result"
    }
   ],
   "source": [
    "hagrid[0]['query']"
   ]
  },
  {
   "cell_type": "code",
   "execution_count": 9,
   "id": "ef45794b",
   "metadata": {},
   "outputs": [
    {
     "data": {
      "text/plain": [
       "{'idx': 1,\n",
       " 'docid': '161708#0',\n",
       " 'text': 'An endangered language, or moribund language, is a language that is at risk of falling out of use as its speakers die out or shift to speaking another language. Language loss occurs when the language has no more native speakers and becomes a \"dead language\". If no one can speak the language at all, it becomes an \"extinct language\". A dead language may still be studied through recordings or writings, but it is still dead or extinct unless there are fluent speakers. Although languages have always become extinct throughout human history, they are currently dying at an accelerated rate because of globalization, neocolonialism and linguicide (language killing).'}"
      ]
     },
     "execution_count": 9,
     "metadata": {},
     "output_type": "execute_result"
    }
   ],
   "source": [
    "hagrid[0]['quotes'][1]"
   ]
  },
  {
   "cell_type": "code",
   "execution_count": 8,
   "id": "e3e8f1b6",
   "metadata": {},
   "outputs": [
    {
     "data": {
      "text/plain": [
       "[{'answer': 'This can happen when the language has no more speakers at all, or only a few elderly speakers who no longer use the language for communication [1]. If no one can speak the language, it becomes an \"extinct language\" [2]. Although a dead language may still be studied through recordings or writings, it is still dead or extinct unless there are fluent speakers [2]. It is important to note that linguists distinguish between language \"death\" and the process where a language becomes a \"dead language\" through normal language change, leaving the old form with no native speakers [3].',\n",
       "  'answer_type': 'short',\n",
       "  'informative': 1,\n",
       "  'attributable': None,\n",
       "  'sentences': [{'text': 'This can happen when the language has no more speakers at all, or only a few elderly speakers who no longer use the language for communication [1].',\n",
       "    'index': 1,\n",
       "    'answer_type': 'short',\n",
       "    'informative': 1,\n",
       "    'attributable': None},\n",
       "   {'text': 'If no one can speak the language, it becomes an \"extinct language\" [2].',\n",
       "    'index': 2,\n",
       "    'answer_type': 'short',\n",
       "    'informative': 1,\n",
       "    'attributable': None},\n",
       "   {'text': 'Although a dead language may still be studied through recordings or writings, it is still dead or extinct unless there are fluent speakers [2].',\n",
       "    'index': 3,\n",
       "    'answer_type': 'short',\n",
       "    'informative': 1,\n",
       "    'attributable': None},\n",
       "   {'text': 'It is important to note that linguists distinguish between language \"death\" and the process where a language becomes a \"dead language\" through normal language change, leaving the old form with no native speakers [3].',\n",
       "    'index': 4,\n",
       "    'answer_type': 'short',\n",
       "    'informative': 1,\n",
       "    'attributable': None}]},\n",
       " {'answer': 'A language is considered dead when it has no more native speakers [2][5].',\n",
       "  'answer_type': 'long',\n",
       "  'informative': 1,\n",
       "  'attributable': None,\n",
       "  'sentences': [{'text': 'A language is considered dead when it has no more native speakers [2][5].',\n",
       "    'index': 0,\n",
       "    'answer_type': 'long',\n",
       "    'informative': 1,\n",
       "    'attributable': None}]}]"
      ]
     },
     "execution_count": 8,
     "metadata": {},
     "output_type": "execute_result"
    }
   ],
   "source": [
    "hagrid[0]['answers']"
   ]
  },
  {
   "cell_type": "code",
   "execution_count": null,
   "id": "b80dad22",
   "metadata": {},
   "outputs": [],
   "source": []
  }
 ],
 "metadata": {
  "kernelspec": {
   "display_name": ".venv",
   "language": "python",
   "name": ".venv"
  },
  "language_info": {
   "codemirror_mode": {
    "name": "ipython",
    "version": 3
   },
   "file_extension": ".py",
   "mimetype": "text/x-python",
   "name": "python",
   "nbconvert_exporter": "python",
   "pygments_lexer": "ipython3",
   "version": "3.12.2"
  }
 },
 "nbformat": 4,
 "nbformat_minor": 5
}
